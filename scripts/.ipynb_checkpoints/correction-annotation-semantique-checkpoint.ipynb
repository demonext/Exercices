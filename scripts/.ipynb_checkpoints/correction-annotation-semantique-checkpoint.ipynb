{
 "cells": [
  {
   "cell_type": "markdown",
   "id": "29818d4b-d4da-4ac4-bed1-395eb00cb871",
   "metadata": {},
   "source": [
    "# Mise en forme des annotations sémantiques de Mathilde Huguin"
   ]
  },
  {
   "cell_type": "code",
   "execution_count": 1,
   "id": "77b4504e-983e-477f-ade8-4bf07165cab4",
   "metadata": {
    "tags": []
   },
   "outputs": [
    {
     "name": "stdout",
     "output_type": "stream",
     "text": [
      "/home/hathout/Developpements/2022-Demonext/Generation-exercices/Demonext-v2\n"
     ]
    }
   ],
   "source": [
    "%cd /home/hathout/Developpements/2022-Demonext/Generation-exercices/Demonext-v2/"
   ]
  },
  {
   "cell_type": "code",
   "execution_count": 3,
   "id": "fad2597a-0603-4a73-819d-b4a0e032e099",
   "metadata": {},
   "outputs": [],
   "source": [
    "import csv\n",
    "SemFile = open('../files/data/annotations-semantiques.csv', 'r')\n",
    "SemTable = csv.DictReader(SemFile, delimiter=',')\n",
    "SemFieldnames = SemTable.fieldnames\n",
    "\n",
    "Splitted = sorted(['Abstract_entity', 'Act', 'Act+Artifact', 'Act+Cognition',\n",
    "                   'Act+Possession', 'Act+State', 'Animal', 'Artifact',\n",
    "                   'Artifact+Cognition', 'Attribute', 'Body', 'Cognition',\n",
    "                   'Cognition+Artifact', 'Communication', 'Concrete_entity',\n",
    "                   'Entity', 'Event', 'Event+Object', 'Event+Phenomenon',\n",
    "                   'Event+State', 'Event+Substance', 'Feeling', 'Food', 'Group',\n",
    "                   'Group+Person', 'GroupxAbstract_entity', 'GroupxAct', 'GroupxAnimal',\n",
    "                   'GroupxArtifact', 'GroupxAttribute', 'GroupxBody', 'GroupxCognition',\n",
    "                   'GroupxConcrete_entity', 'GroupxEntity', 'GroupxEvent', 'GroupxFood',\n",
    "                   'GroupxInstitution', 'GroupxLiving&Animate_entity', 'GroupxObject',\n",
    "                   'GroupxPerson', 'GroupxPlant', 'GroupxState', 'GroupxSubstance',\n",
    "                   'Institution', 'Living&Animate_entity', 'Object', 'Part', 'PartxAnimal',\n",
    "                   'PartxArtifact', 'PartxCognition', 'PartxCommunication',\n",
    "                   'PartxConcrete_entity', 'PartxFood', 'PartxGroup', 'PartxInstitution',\n",
    "                   'PartxObject', 'PartxPhenomenon', 'PartxPlant', 'PartxSubstance',\n",
    "                   'Person', 'Phenomenon', 'Plant', 'Possession', 'Quantity',\n",
    "                   'Relation', 'State', 'State+Object', 'Substance', 'Time', 'Tops'])\n",
    "\n",
    "NewFile = open('../files/data/semantique.csv', 'w', newline='')\n",
    "NewFieldnames = SemFieldnames + Splitted\n",
    "NewWriter = csv.DictWriter(NewFile, fieldnames=NewFieldnames, delimiter=',')\n",
    "NewWriter.writeheader()\n",
    "\n",
    "for Entry in SemTable:\n",
    "    NewEntry = {}\n",
    "    NewEntry.update(Entry)\n",
    "    NewEntry['graphie'] = Entry['graphie'].lower() \n",
    "    for Annot in Entry['Annotations ontologiques'].split(';'):\n",
    "        if Annot == '':\n",
    "            continue\n",
    "        if Annot not in NewFieldnames:\n",
    "            print(Annot)\n",
    "        NewEntry[Annot] = '1'\n",
    "    NewWriter.writerow(NewEntry)\n",
    "SemFile.close()\n",
    "NewFile.close()"
   ]
  },
  {
   "cell_type": "code",
   "execution_count": null,
   "id": "e0db2e53-707f-4ede-b800-533d1ffb1c0c",
   "metadata": {},
   "outputs": [],
   "source": []
  }
 ],
 "metadata": {
  "kernelspec": {
   "display_name": "Python 3 (ipykernel)",
   "language": "python",
   "name": "python3"
  },
  "language_info": {
   "codemirror_mode": {
    "name": "ipython",
    "version": 3
   },
   "file_extension": ".py",
   "mimetype": "text/x-python",
   "name": "python",
   "nbconvert_exporter": "python",
   "pygments_lexer": "ipython3",
   "version": "3.10.6"
  }
 },
 "nbformat": 4,
 "nbformat_minor": 5
}
