{
 "cells": [
  {
   "cell_type": "markdown",
   "metadata": {},
   "source": [
    "# Génération des exercices"
   ]
  },
  {
   "cell_type": "code",
   "execution_count": null,
   "metadata": {},
   "outputs": [],
   "source": [
    "import pandas as pd"
   ]
  },
  {
   "cell_type": "markdown",
   "metadata": {},
   "source": [
    "Constituer la liste des noms des étudiants"
   ]
  },
  {
   "cell_type": "code",
   "execution_count": null,
   "metadata": {},
   "outputs": [],
   "source": [
    "people = pd.read_csv('../files/names.csv')\n",
    "people = people.sort_values('last')\n",
    "people = people['first'] + '_' + people['last']\n",
    "people = list(people.drop_duplicates())"
   ]
  },
  {
   "cell_type": "markdown",
   "metadata": {},
   "source": [
    "Chargement des annotations sémantiques"
   ]
  },
  {
   "cell_type": "code",
   "execution_count": null,
   "metadata": {},
   "outputs": [],
   "source": [
    "# dictionnaire des specification des exercices\n",
    "specif = {}\n",
    "# dictionnaire qui contient l'ensemble des données pour chaque variable de chaque exercice\n",
    "ex = {} "
   ]
  },
  {
   "cell_type": "markdown",
   "metadata": {},
   "source": [
    "Exercice 1. Verbes en _-iser_"
   ]
  },
  {
   "cell_type": "code",
   "execution_count": null,
   "metadata": {
    "tags": []
   },
   "outputs": [],
   "source": [
    "# chargement des données\n",
    "data1 = pd.read_csv('../files/data/ex-iser.csv')\n",
    "\n",
    "specif['exun'] = {'type':'exlex+class', 'nbexemples':5, 'nbclasses':2}\n",
    "\n",
    "ex['exun'] = {}\n",
    "ex['exun']['adj'] = data1['verbe'][(data1['cat_base']=='adj')]\n",
    "ex['exun']['noun'] = data1['verbe'][(data1['cat_base']=='noun')]\n",
    "ex['exun']['prefix'] = data1['verbe'][(data1['cat_base']=='prefix')]\n",
    "ex['exun']['simplex'] = data1['verbe'][(data1['cat_base']=='simplex')]"
   ]
  },
  {
   "cell_type": "markdown",
   "metadata": {},
   "source": [
    "Exercice 2. Noms en _-ité_"
   ]
  },
  {
   "cell_type": "code",
   "execution_count": null,
   "metadata": {
    "tags": []
   },
   "outputs": [],
   "source": [
    "data2 = pd.read_csv('../files/data/ex-ite.csv')\n",
    "\n",
    "specif['exdeux'] = {'type':'exlex+class', 'nbexemples':4, 'nbclasses':2}\n",
    "\n",
    "ex['exdeux'] = {}\n",
    "ex['exdeux']['absurdite'] = data2['dérivé'][(data2['procédé']=='ité') & (data2['allomorphie?']=='0') & (data2['m=f']==1)]\n",
    "ex['exdeux']['adaptabilite'] = data2['dérivé'][(data2['procédé']=='ité') & (data2['allomorphie?'].isin(['able~abil'])) & (data2['m=f']==1)]\n",
    "ex['exdeux']['biodiversite'] = data2['dérivé'][data2['procédé']=='pfx']\n",
    "ex['exdeux']['bonte'] = data2['dérivé'][(data2['procédé']=='té') & (data2['allomorphie?']=='0') & (data2['m=f']==1)]\n",
    "ex['exdeux']['parite'] = data2['dérivé'][(data2['procédé']=='ité') & (data2['allomorphie?'].isin(['el~al','aire~ar'])) & (data2['m=f']==1)]"
   ]
  },
  {
   "cell_type": "markdown",
   "metadata": {},
   "source": [
    "Exercice 3. Verbes dénomianux affixés"
   ]
  },
  {
   "cell_type": "code",
   "execution_count": null,
   "metadata": {},
   "outputs": [],
   "source": [
    "# chargement des annotations sémantiques\n",
    "sem = pd.read_csv('../files/data/semantique.csv', delimiter=',')"
   ]
  },
  {
   "cell_type": "code",
   "execution_count": null,
   "metadata": {
    "tags": []
   },
   "outputs": [],
   "source": [
    "data3 = pd.read_csv('../files/data/ex-denominaux.csv')\n",
    "\n",
    "specif['extroisa'] = {'type':'exlex', 'nbexemples':2}\n",
    "\n",
    "data3['couple'] = data3['graph_1'] + ' -- ' + data3['graph_2']\n",
    "data3 = data3.join(sem.set_index('graphie'), on='graph_2')\n",
    "\n",
    "ex['extroisa'] = {}\n",
    "ex['extroisa']['panifier'] = data3['couple'][(data3['cstr_1'].isin(['Xifier', 'Xiser'])) & (data3['Artifact']==1)]\n",
    "ex['extroisa']['embrasser'] =  data3['couple'][(data3['cstr_1'] == 'enX') & (data3['Body']==1)]\n",
    "ex['extroisa']['vampiriser'] = data3['couple'][(data3['cstr_1'].isin(['Xifier', 'Xiser'])) & (data3['Person']==1)]\n",
    "\n",
    "specif['extroisb'] = {'type':'exlex', 'nbexemples':5}\n",
    "\n",
    "ex['extroisb'] = {}\n",
    "ex['extroisb']['pain'] = sem['graphie'][(sem['Artifact'] == 1)]\n",
    "ex['extroisb']['bras'] = sem['graphie'][(sem['Body'] == 1)]\n",
    "ex['extroisb']['vampire'] = sem['graphie'][(sem['Person'] == 1)]"
   ]
  },
  {
   "cell_type": "markdown",
   "metadata": {},
   "source": [
    "Exercice 4. Conversions nom/verbe"
   ]
  },
  {
   "cell_type": "code",
   "execution_count": null,
   "metadata": {
    "tags": []
   },
   "outputs": [],
   "source": [
    "data4 = pd.read_csv('../files/data/ex-conversion.csv')\n",
    "\n",
    "data4['couple'] = data4['graph_1'] + ' -- ' + data4['graph_2']\n",
    "data4 = data4.join(sem.set_index('graphie'), on='graph_2')\n",
    "\n",
    "specif['exquatrea'] = {'type':'exlex', 'nbexemples':2}\n",
    "\n",
    "ex['exquatrea'] = {}\n",
    "ex['exquatrea']['zigzaguer'] = data4['couple'][(data4['cat_1'] == 'V') & (data4['Act']==1)]\n",
    "ex['exquatrea']['vitrioler'] = data4['couple'][(data4['cat_1'] == 'V') & (data4['Substance']==1)]\n",
    "ex['exquatrea']['ventriloquer'] = data4['couple'][(data4['cat_1'] == 'V') & (data4['Person']==1)]\n",
    "\n",
    "specif['exquatreb'] = {'type':'exlex', 'nbexemples':5}\n",
    "\n",
    "ex['exquatreb'] = {}\n",
    "ex['exquatreb']['zigzag'] = sem['graphie'][(sem['Act'] == 1)]\n",
    "ex['exquatreb']['vitriol'] = sem['graphie'][(sem['Substance'] == 1)]\n",
    "ex['exquatreb']['ventriloque'] = sem['graphie'][(sem['Person'] == 1)]"
   ]
  },
  {
   "cell_type": "markdown",
   "metadata": {},
   "source": [
    "Exercice 5. Histoires dérivationnelles d'un dérivé suffixé"
   ]
  },
  {
   "cell_type": "code",
   "execution_count": null,
   "metadata": {
    "tags": []
   },
   "outputs": [],
   "source": [
    "data5 = pd.read_csv('../files/data/ex-histoire-suff.csv')\n",
    "\n",
    "data5['couple'] = data5['graph_1'] + ' -- ' + data5['graph_2']\n",
    "\n",
    "specif['excinq'] = {'type':'exlex', 'nbexemples':5}\n",
    "\n",
    "ex['excinq'] = {}\n",
    "ex['excinq']['cogestionnaire'] = data5['couple'][(data5['cat_1'] == 'Adj') & (data5['cat_2']== 'V')\n",
    "                                                 & (data5['complexite'] == 'complexe') & (data5['orientation'] == 'des2as')]\n",
    "ex['excinq']['poulailler'] = data5['couple'][(data5['cat_1'].isin(['Nm', 'Nf', 'Npx']))\n",
    "                                             & (data5['cat_2'].isin(['Nm', 'Nf', 'Npx'])) & (data5['complexite'] == 'complexe')\n",
    "                                             & (data5['orientation'] == 'des2as')]\n",
    "ex['excinq']['langagier'] = data5['couple'][(data5['cat_1'] == 'Adj') & (data5['cat_2'].isin(['Nm', 'Nf', 'Npx']))\n",
    "                                            & (data5['complexite'] == 'complexe') & (data5['orientation'] == 'des2as')]\n",
    "ex['excinq']['bitumisation'] = data5['couple'][(data5['cat_1'].isin(['Nm', 'Nf', 'Npx'])) & (data5['cat_2'] == 'V')]"
   ]
  },
  {
   "cell_type": "markdown",
   "metadata": {},
   "source": [
    "Exercice 6. Histoires dérivationnelles d'un dérivé préfixé et suffixé"
   ]
  },
  {
   "cell_type": "code",
   "execution_count": null,
   "metadata": {
    "tags": []
   },
   "outputs": [],
   "source": [
    "data6 = pd.read_csv('../files/data/ex-histoire-pref-suff.csv')\n",
    "\n",
    "data6['couple'] = data6['graph_1'] + ' -- ' + data6['graph_2']\n",
    "\n",
    "specif['exsix'] = {'type':'exlex', 'nbexemples':1}\n",
    "\n",
    "ex['exsix'] = {}\n",
    "ex['exsix']['antigrippal'] = data6['couple'][(data6['cat_1'] == 'Adj') & (data6['cat_2'].isin(['Nm', 'Nf', 'Npx']))\n",
    "                                             & (data6['type_cstr_1'] == 'pre-suf') & (data6['cstr_2'] == 'X')]\n",
    "ex['exsix']['postglaciaire'] = data6['couple'][(data6['cat_1'] == 'Adj') & (data6['cat_2'].isin(['Nm', 'Nf', 'Npx']))\n",
    "                                               & (data6['type_cstr_1'] == 'pre-suf') & (data6['orientation'] == 'indirect')]"
   ]
  },
  {
   "cell_type": "markdown",
   "metadata": {},
   "source": [
    "Exercice 7. Compléter la famille"
   ]
  },
  {
   "cell_type": "code",
   "execution_count": null,
   "metadata": {
    "tags": []
   },
   "outputs": [],
   "source": [
    "data7 = pd.read_csv('../files/data/ex-indirect-simple.csv')\n",
    "\n",
    "data7['couple'] = data7['graph_1'] + ' -- ' + data7['graph_2']\n",
    "\n",
    "specif['exsept'] = {'type':'exlex', 'nbexemples':1}\n",
    "\n",
    "ex['exsept'] = {}\n",
    "ex['exsept']['applicateur'] = data7['couple'][(data7['cat_1'].isin(['Nm', 'Nf', 'Npx']))\n",
    "                                              & (data7['cat_2'].isin(['Nm', 'Nf', 'Npx'])) & (data7['type_cstr_1'] == 'suf')\n",
    "                                              & (data7['type_cstr_2'] == 'suf') & (data7['orientation'] == 'indirect')\n",
    "                                              & (data7['complexite'] == 'simple')]\n",
    "ex['exsept']['contestataire'] =  data7['couple'][(data7['cat_1'] == 'Adj') & (data7['cat_2'].isin(['Nm', 'Nf', 'Npx']))\n",
    "                                                 & (data7['type_cstr_1'] == 'suf') & (data7['type_cstr_2'] == 'suf')\n",
    "                                                 & (data7['orientation'] == 'indirect') & (data7['complexite'] == 'simple')]"
   ]
  },
  {
   "cell_type": "markdown",
   "metadata": {},
   "source": [
    "Exercice 8. Variation formelle"
   ]
  },
  {
   "cell_type": "code",
   "execution_count": null,
   "metadata": {
    "tags": []
   },
   "outputs": [],
   "source": [
    "data8 = pd.read_csv('../files/data/ex-variation.csv')\n",
    "\n",
    "specif['exhuit'] = {'type':'exlist', 'nbexemples':1}\n",
    "\n",
    "graph2 = data8['graph_2'].values\n",
    "dfgraph2 = pd.DataFrame({'graph_1':graph2, 'graph_2':graph2})\n",
    "dfsym = pd.concat([data8[['graph_1', 'graph_2']], dfgraph2]).drop_duplicates()\n",
    "dfvar = dfsym.groupby(['graph_2']).graph_1.apply(list).reset_index(name='variantes')\n",
    "dfvar = dfvar[dfvar.variantes.map(len) > 2]\n",
    "\n",
    "ex['exhuit'] = {}\n",
    "ex['exhuit'] = dfvar"
   ]
  },
  {
   "cell_type": "markdown",
   "metadata": {},
   "source": [
    "Exercice 9. Décalage sens-forme"
   ]
  },
  {
   "cell_type": "code",
   "execution_count": null,
   "metadata": {
    "tags": []
   },
   "outputs": [],
   "source": [
    "data9 = pd.read_csv('../files/data/ex-decalages.csv')\n",
    "\n",
    "data9['couple'] = data9['graph_1'] + ' -- ' + data9['graph_2']\n",
    "\n",
    "specif['exneuf'] = {'type':'exlex', 'nbexemples':1}\n",
    "\n",
    "ex['exneuf'] = {}\n",
    "ex['exneuf']['cartesianisme'] = data9['couple'][(data9['cstr_1'] == 'Xianisme') & (data9['cstr_2'] == 'X') & (data9['complexite'] == 'motiv-sem')]\n",
    "ex['exneuf']['urbanisme'] = data9['couple'][(data9['cstr_1'] == 'Xanisme') & (data9['cstr_2'] == 'X') & (data9['complexite'] == 'motiv-sem')]\n",
    "ex['exneuf']['historicisme'] = data9['couple'][(data9['cstr_1'] == 'Xicisme') & (data9['cstr_2'] == 'X') & (data9['complexite'] == 'motiv-sem')]\n",
    "ex['exneuf']['cellularisme'] = data9['couple'][(data9['cstr_1'] == 'Xarisme') & (data9['cstr_2'] == 'X') & (data9['complexite'] == 'motiv-sem')]"
   ]
  },
  {
   "cell_type": "markdown",
   "metadata": {},
   "source": [
    "Création et compilation du fichier LaTeX"
   ]
  },
  {
   "cell_type": "code",
   "execution_count": null,
   "metadata": {},
   "outputs": [],
   "source": [
    "for etudiant in people:\n",
    "    enonce = ''\n",
    "    enonce += '\\\\newcommand{{\\\\student}}{{{0}}}\\n'.format(' '.join(etudiant.split('_')))\n",
    "    \n",
    "    for ex_id in ex:\n",
    "        match specif[ex_id]['type']:\n",
    "            case 'exlex':\n",
    "                for question in sorted(ex[ex_id].keys()):\n",
    "                    exlex = list(ex[ex_id][question].sample(specif[ex_id]['nbexemples']))\n",
    "                    enonce += '\\\\newcommand{{\\\\{0}}}{{\\\\label{{{0}}} {1}}}\\n'.format(ex_id + question, ', '.join(sorted(exlex))) \n",
    "            case 'exlex+class':\n",
    "                exa_classer = []\n",
    "                for question in sorted(ex[ex_id].keys()):\n",
    "                    exemples = list(ex[ex_id][question].sample(specif[ex_id]['nbexemples'] + specif[ex_id]['nbclasses']))\n",
    "                    exlex = exemples[:specif[ex_id]['nbexemples']]\n",
    "                    exa_classer  += exemples[specif[ex_id]['nbexemples']:]\n",
    "                    enonce += '\\\\newcommand{{\\\\{0}}}{{\\\\label{{{0}}} {1}}}\\n'.format(ex_id + question, ', '.join(sorted(exlex)))\n",
    "                enonce += '\\\\newcommand{{\\\\{0}aclasser}}{{{1}}}\\n'.format(ex_id, ', '.join(sorted(exa_classer)))    \n",
    "            case 'exlist':\n",
    "                exlist = sorted(set(ex[ex_id].sample(specif[ex_id]['nbexemples']).iloc[0]['variantes']))\n",
    "                enonce += '\\\\newcommand{{\\\\{0}}}{{\\\\label{{{0}}} {1}}}\\n'.format(ex_id, ', '.join(exlist))         \n",
    "\n",
    "    file = open('../files/latex/latexvars','w')\n",
    "    file.write(enonce)\n",
    "    file.close()\n",
    "       \n",
    "    !bash compilation.sh {etudiant}"
   ]
  },
  {
   "cell_type": "code",
   "execution_count": null,
   "metadata": {},
   "outputs": [],
   "source": []
  }
 ],
 "metadata": {
  "kernelspec": {
   "display_name": "Python 3 (ipykernel)",
   "language": "python",
   "name": "python3"
  },
  "language_info": {
   "codemirror_mode": {
    "name": "ipython",
    "version": 3
   },
   "file_extension": ".py",
   "mimetype": "text/x-python",
   "name": "python",
   "nbconvert_exporter": "python",
   "pygments_lexer": "ipython3",
   "version": "3.10.6"
  }
 },
 "nbformat": 4,
 "nbformat_minor": 4
}
